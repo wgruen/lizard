{
 "cells": [
  {
   "cell_type": "markdown",
   "metadata": {
    "id": "8Y3t5rdxLuob"
   },
   "source": [
    "# Overview of the results\n",
    "\n",
    "---\n",
    "\n"
   ]
  },
  {
   "cell_type": "markdown",
   "metadata": {
    "id": "JZwrX-aqL3H2"
   },
   "source": [
    "## Training Data\n",
    "The machine with version 3 does uses the matrix below to train the machine for the exclusive OR function.\n",
    "\n",
    "    training_data_embedded_v2: [    \n",
    "        [0.04,  0.03,  0.07,  0.01],\n",
    "        [0.01,  0.03,  0.95,  0.99],\n",
    "        [0.04,  0.96,  0.01,  0.99],\n",
    "        [0.98,  0.04,  0.02,  0.99],\n",
    "        [0.96,  0.97,  0.98,  0.01]\n",
    "    ]\n",
    "\n",
    "I tried with 3 to 8 neurons in the first hidden layer and 0 to 3 neurons in the second hidden layer. Also I tried batch sizes of 4 and 32, and learning rates of 0.01, 0.001 and 0.0001.\n",
    "After 7000 epochs, the learning reate was divided by 10. \n",
    "\n",
    "For early_stopping these were the parameters:\n",
    "    monitor: 'val_loss'\n",
    "    patience: 40000\n",
    "    verbose: 0\n",
    "    min_delta: 1e-8\n",
    "\n",
    "The best results where with one combination, which is 7 neruons in the first hidden layer, and 2 neurons in the second hidden layer, and a learning rate of 0.01 (which was reduced to 0.001 after 700 epochs and a batch size of 32.\n",
    "\n",
    "There is one data point for which the machine is not trained. New training will start with data data  point:\n",
    "\n",
    "\n",
    "\n",
    "\n",
    "\n",
    "\n",
    "\n"
   ]
  },
  {
   "cell_type": "markdown",
   "metadata": {
    "id": "yJFHpIDtUk_f"
   },
   "source": [
    "# Predit with the machine\n",
    "\n",
    "---\n",
    "\n"
   ]
  },
  {
   "cell_type": "code",
   "execution_count": 3,
   "metadata": {
    "colab": {
     "base_uri": "https://localhost:8080/"
    },
    "executionInfo": {
     "elapsed": 21874,
     "status": "ok",
     "timestamp": 1644893382735,
     "user": {
      "displayName": "Wolfgang Gruen",
      "photoUrl": "https://lh3.googleusercontent.com/a/default-user=s64",
      "userId": "01742609913198784862"
     },
     "user_tz": 300
    },
    "id": "1b9v8h2_Uh9b",
    "outputId": "b0dc751d-91c5-42d3-ce5c-bc8261af35f9"
   },
   "outputs": [
    {
     "name": "stdout",
     "output_type": "stream",
     "text": [
      "Requirement already satisfied: reportlab in /home/ec2-user/anaconda3/envs/amazonei_tensorflow2_p36/lib/python3.6/site-packages (3.6.7)\n",
      "Requirement already satisfied: pillow>=4.0.0 in /home/ec2-user/anaconda3/envs/amazonei_tensorflow2_p36/lib/python3.6/site-packages (from reportlab) (8.4.0)\n",
      "not connected to a TPU\n",
      "=== can't load machine - the file is not available\n",
      "saved_machines/xor3_v3--ep-2--i-3--hl1-2--hl2-0--lr-0.01--bs-32.bin\n",
      "\n",
      "Empty DataFrame\n",
      "Columns: []\n",
      "Index: []\n"
     ]
    }
   ],
   "source": [
    "#!ls\n",
    "#!pwd\n",
    "\n",
    "!pip install reportlab\n",
    "%run predict_machine.py -i config/logical_xor3_v3.configuration.keras.yaml"
   ]
  },
  {
   "cell_type": "markdown",
   "metadata": {
    "id": "gYYLbBFGQtl8"
   },
   "source": [
    "# Train machine\n",
    "\n",
    "---\n",
    "\n"
   ]
  },
  {
   "cell_type": "code",
   "execution_count": 4,
   "metadata": {
    "colab": {
     "base_uri": "https://localhost:8080/"
    },
    "id": "3vKpojyITuWG",
    "outputId": "bcc90d0e-6414-444d-8d21-c047d51c5567"
   },
   "outputs": [
    {
     "name": "stdout",
     "output_type": "stream",
     "text": [
      "Requirement already satisfied: reportlab in /home/ec2-user/anaconda3/envs/amazonei_tensorflow2_p36/lib/python3.6/site-packages (3.6.7)\n",
      "Requirement already satisfied: pillow>=4.0.0 in /home/ec2-user/anaconda3/envs/amazonei_tensorflow2_p36/lib/python3.6/site-packages (from reportlab) (8.4.0)\n",
      "not connected to a TPU\n",
      "Model: \"sequential\"\n",
      "_________________________________________________________________\n",
      "Layer (type)                 Output Shape              Param #   \n",
      "=================================================================\n",
      "dense (Dense)                (None, 2)                 8         \n",
      "_________________________________________________________________\n",
      "dense_1 (Dense)              (None, 1)                 3         \n",
      "=================================================================\n",
      "Total params: 11\n",
      "Trainable params: 11\n",
      "Non-trainable params: 0\n",
      "_________________________________________________________________\n",
      "WARNING:tensorflow:From /home/ec2-user/anaconda3/envs/amazonei_tensorflow2_p36/lib/python3.6/site-packages/tensorflow/python/training/tracking/tracking.py:111: Model.state_updates (from tensorflow.python.keras.engine.training) is deprecated and will be removed in a future version.\n",
      "Instructions for updating:\n",
      "This property should not be used in TensorFlow 2.0, as updates are applied automatically.\n",
      "WARNING:tensorflow:From /home/ec2-user/anaconda3/envs/amazonei_tensorflow2_p36/lib/python3.6/site-packages/tensorflow/python/training/tracking/tracking.py:111: Layer.updates (from tensorflow.python.keras.engine.base_layer) is deprecated and will be removed in a future version.\n",
      "Instructions for updating:\n",
      "This property should not be used in TensorFlow 2.0, as updates are applied automatically.\n",
      "loss\n",
      "mean_squared_logarithmic_error\n",
      "auc\n",
      "val_loss\n",
      "val_mean_squared_logarithmic_error\n",
      "val_auc\n",
      "                                                               machine  epochs      loss  mean_squared_logarithmic_error  auc  val_loss  val_mean_squared_logarithmic_error  val_auc   predict\n",
      "0  saved_machines/xor3_v3--ep-2--i-3--hl1-2--hl2-0--lr-0.01--bs-32.bin       2  0.164727                        0.077631  0.0  0.207632                            0.100007      0.0  5.980088\n"
     ]
    },
    {
     "data": {
      "text/plain": [
       "<Figure size 432x288 with 0 Axes>"
      ]
     },
     "metadata": {},
     "output_type": "display_data"
    },
    {
     "data": {
      "image/png": "[encoded data removed]",
      "text/plain": [
       "<Figure size 432x288 with 3 Axes>"
      ]
     },
     "metadata": {
      "needs_background": "light"
     },
     "output_type": "display_data"
    }
   ],
   "source": [
    "# run python code\n",
    "\n",
    "!pip install reportlab\n",
    "%run train_machine.py -i config/logical_xor3_v3.configuration.keras.yaml\n"
   ]
  }
 ],
 "metadata": {
  "accelerator": "GPU",
  "colab": {
   "collapsed_sections": [
    "JZwrX-aqL3H2",
    "gYYLbBFGQtl8"
   ],
   "name": "binary_with_keras_xor3_v3.ipynb",
   "provenance": [
    {
     "file_id": "/v2/external/notebooks/intro.ipynb",
     "timestamp": 1639750401434
    }
   ]
  },
  "kernelspec": {
   "display_name": "conda_amazonei_tensorflow2_p36",
   "language": "python",
   "name": "conda_amazonei_tensorflow2_p36"
  },
  "language_info": {
   "codemirror_mode": {
    "name": "ipython",
    "version": 3
   },
   "file_extension": ".py",
   "mimetype": "text/x-python",
   "name": "python",
   "nbconvert_exporter": "python",
   "pygments_lexer": "ipython3",
   "version": "3.6.13"
  }
 },
 "nbformat": 4,
 "nbformat_minor": 4
}
