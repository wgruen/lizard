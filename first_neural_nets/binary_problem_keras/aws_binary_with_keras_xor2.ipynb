{
 "cells": [
  {
   "cell_type": "markdown",
   "metadata": {
    "id": "kxA3W5HOQjDG"
   },
   "source": [
    "# Overview of the results\n",
    "\n",
    "\n",
    "---\n",
    "\n",
    "\n",
    "\n"
   ]
  },
  {
   "cell_type": "markdown",
   "metadata": {
    "id": "RFFRY3yiQomc"
   },
   "source": [
    "## Training Data\n",
    "     training_data_embedded: [\n",
    "        [0.04,  0.03,  0.01],\n",
    "        [0.04,  0.96,  0.99],\n",
    "        [0.98,  0.02,  0.99],\n",
    "        [0.96,  0.97,  0.01]\n",
    "     ]\n"
   ]
  },
  {
   "cell_type": "markdown",
   "metadata": {
    "id": "Cdnd-dQ1V723"
   },
   "source": [
    "###  machine fitting\n",
    "\n",
    "The hyper parameters for each run were number of hidden neurons and learning rate. Some previous experiments had suggested to leave the batch size at 32, and have no second hidden layer.\n",
    "\n",
    "Also I didn't use early stopping and let machines run 100 000 epochs. With the very small training set, this worked best\n",
    "\n",
    "The learning rate was adjusted once only, after 10 000 epocchs, when it would be divided by 10.\n",
    "\n",
    "\n",
    "The machine with four hidden neurons always had a very low error.\n",
    "\n",
    "Also machines with two hidden neurons would get a low error.\n",
    "       "
   ]
  },
  {
   "cell_type": "markdown",
   "metadata": {
    "id": "MMfNApzRSdsz"
   },
   "source": [
    "# Predict with the machine\n",
    "\n",
    "---\n",
    "\n"
   ]
  },
  {
   "cell_type": "code",
   "execution_count": null,
   "metadata": {
    "colab": {
     "base_uri": "https://localhost:8080/"
    },
    "executionInfo": {
     "elapsed": 29393,
     "status": "ok",
     "timestamp": 1643903270529,
     "user": {
      "displayName": "Wolfgang Gruen",
      "photoUrl": "https://lh3.googleusercontent.com/a/default-user=s64",
      "userId": "01742609913198784862"
     },
     "user_tz": 300
    },
    "id": "2CA_KDHfSbwG",
    "outputId": "35bb00b3-07ce-457f-9ac1-0308878ea243"
   },
   "outputs": [],
   "source": [
    "# run python code\n",
    "\n",
    "!pwd\n",
    "!ls\n",
    "\n",
    "!pip install reportlab\n",
    "%run predict_machine.py -i config/logical_xor2.configuration.keras.yaml"
   ]
  },
  {
   "cell_type": "markdown",
   "metadata": {
    "id": "gYYLbBFGQtl8"
   },
   "source": [
    "# Train machine\n",
    "\n",
    "\n",
    "---\n",
    "\n"
   ]
  },
  {
   "cell_type": "code",
   "execution_count": 1,
   "metadata": {
    "colab": {
     "base_uri": "https://localhost:8080/"
    },
    "id": "PmnklYq65Cx6",
    "outputId": "81fa1cd9-5491-4ec1-8791-f086e1ba8cb7"
   },
   "outputs": [
    {
     "name": "stdout",
     "output_type": "stream",
     "text": [
      "/home/ec2-user/SageMaker/lizard/first_neural_nets/binary_problem_keras\n",
      "aws_binary_with_keras_xor2.ipynb       output\n",
      "binary_with_keras.py\t\t       predict_machine.py\n",
      "binary_with_keras_xor2.ipynb\t       __pycache__\n",
      "binary_with_keras_xor3_v2.ipynb        README.md\n",
      "binary_with_keras_xor3_v3-Copy1.ipynb  saved_machines\n",
      "binary_with_keras_xor3_v3.ipynb        train_machine.py\n",
      "config\t\t\t\t       validate_machine.py\n",
      "logs\n",
      "Requirement already satisfied: reportlab in /home/ec2-user/anaconda3/envs/amazonei_tensorflow2_p36/lib/python3.6/site-packages (3.6.7)\n",
      "Requirement already satisfied: pillow>=4.0.0 in /home/ec2-user/anaconda3/envs/amazonei_tensorflow2_p36/lib/python3.6/site-packages (from reportlab) (8.4.0)\n"
     ]
    },
    {
     "ename": "SyntaxError",
     "evalue": "invalid syntax (binary_with_keras.py, line 350)",
     "output_type": "error",
     "traceback": [
      "\u001b[0;36m  File \u001b[0;32m\"/home/ec2-user/SageMaker/lizard/first_neural_nets/binary_problem_keras/binary_with_keras.py\"\u001b[0;36m, line \u001b[0;32m350\u001b[0m\n\u001b[0;31m    verbose=self.verbose, \\\u001b[0m\n\u001b[0m          ^\u001b[0m\n\u001b[0;31mSyntaxError\u001b[0m\u001b[0;31m:\u001b[0m invalid syntax\n"
     ]
    }
   ],
   "source": [
    "\n",
    "!pwd\n",
    "!ls\n",
    "\n",
    "\n",
    "!pip install reportlab\n",
    "%run train_machine.py -i config/logical_xor2.configuration.keras.yaml"
   ]
  },
  {
   "cell_type": "markdown",
   "metadata": {
    "id": "HJaZDpFFp5Cv"
   },
   "source": []
  }
 ],
 "metadata": {
  "accelerator": "GPU",
  "colab": {
   "collapsed_sections": [
    "Cdnd-dQ1V723"
   ],
   "name": "binary_with_keras_xor2.ipynb",
   "provenance": [
    {
     "file_id": "/v2/external/notebooks/intro.ipynb",
     "timestamp": 1639750401434
    }
   ]
  },
  "kernelspec": {
   "display_name": "conda_amazonei_tensorflow2_p36",
   "language": "python",
   "name": "conda_amazonei_tensorflow2_p36"
  },
  "language_info": {
   "codemirror_mode": {
    "name": "ipython",
    "version": 3
   },
   "file_extension": ".py",
   "mimetype": "text/x-python",
   "name": "python",
   "nbconvert_exporter": "python",
   "pygments_lexer": "ipython3",
   "version": "3.6.13"
  }
 },
 "nbformat": 4,
 "nbformat_minor": 1
}
